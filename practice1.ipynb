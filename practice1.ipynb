{
 "cells": [
  {
   "cell_type": "code",
   "execution_count": 1,
   "id": "2bf89337",
   "metadata": {
    "execution": {
     "iopub.execute_input": "2025-03-14T18:21:11.124131Z",
     "iopub.status.busy": "2025-03-14T18:21:11.123768Z",
     "iopub.status.idle": "2025-03-14T18:21:11.980953Z",
     "shell.execute_reply": "2025-03-14T18:21:11.979908Z"
    },
    "papermill": {
     "duration": 0.864255,
     "end_time": "2025-03-14T18:21:11.982801",
     "exception": false,
     "start_time": "2025-03-14T18:21:11.118546",
     "status": "completed"
    },
    "tags": []
   },
   "outputs": [],
   "source": [
    "\n",
    "import numpy as np \n",
    "import matplotlib.pyplot as plt\n",
    "import pandas as pd"
   ]
  },
  {
   "cell_type": "code",
   "execution_count": 2,
   "id": "5e510fa2",
   "metadata": {
    "execution": {
     "iopub.execute_input": "2025-03-14T18:21:11.991176Z",
     "iopub.status.busy": "2025-03-14T18:21:11.990749Z",
     "iopub.status.idle": "2025-03-14T18:21:12.011603Z",
     "shell.execute_reply": "2025-03-14T18:21:12.010613Z"
    },
    "papermill": {
     "duration": 0.026685,
     "end_time": "2025-03-14T18:21:12.013276",
     "exception": false,
     "start_time": "2025-03-14T18:21:11.986591",
     "status": "completed"
    },
    "tags": []
   },
   "outputs": [],
   "source": [
    "dataset = pd.read_csv(\"/kaggle/input/practice-dataset01/Data.csv\")"
   ]
  },
  {
   "cell_type": "code",
   "execution_count": 3,
   "id": "f5a8181e",
   "metadata": {
    "execution": {
     "iopub.execute_input": "2025-03-14T18:21:12.021248Z",
     "iopub.status.busy": "2025-03-14T18:21:12.020952Z",
     "iopub.status.idle": "2025-03-14T18:21:12.048087Z",
     "shell.execute_reply": "2025-03-14T18:21:12.047084Z"
    },
    "papermill": {
     "duration": 0.032808,
     "end_time": "2025-03-14T18:21:12.049763",
     "exception": false,
     "start_time": "2025-03-14T18:21:12.016955",
     "status": "completed"
    },
    "tags": []
   },
   "outputs": [
    {
     "name": "stderr",
     "output_type": "stream",
     "text": [
      "/usr/local/lib/python3.10/dist-packages/pandas/io/formats/format.py:1458: RuntimeWarning: invalid value encountered in greater\n",
      "  has_large_values = (abs_vals > 1e6).any()\n",
      "/usr/local/lib/python3.10/dist-packages/pandas/io/formats/format.py:1459: RuntimeWarning: invalid value encountered in less\n",
      "  has_small_values = ((abs_vals < 10 ** (-self.digits)) & (abs_vals > 0)).any()\n",
      "/usr/local/lib/python3.10/dist-packages/pandas/io/formats/format.py:1459: RuntimeWarning: invalid value encountered in greater\n",
      "  has_small_values = ((abs_vals < 10 ** (-self.digits)) & (abs_vals > 0)).any()\n"
     ]
    },
    {
     "data": {
      "text/html": [
       "<div>\n",
       "<style scoped>\n",
       "    .dataframe tbody tr th:only-of-type {\n",
       "        vertical-align: middle;\n",
       "    }\n",
       "\n",
       "    .dataframe tbody tr th {\n",
       "        vertical-align: top;\n",
       "    }\n",
       "\n",
       "    .dataframe thead th {\n",
       "        text-align: right;\n",
       "    }\n",
       "</style>\n",
       "<table border=\"1\" class=\"dataframe\">\n",
       "  <thead>\n",
       "    <tr style=\"text-align: right;\">\n",
       "      <th></th>\n",
       "      <th>Country</th>\n",
       "      <th>Age</th>\n",
       "      <th>Salary</th>\n",
       "      <th>Purchased</th>\n",
       "    </tr>\n",
       "  </thead>\n",
       "  <tbody>\n",
       "    <tr>\n",
       "      <th>0</th>\n",
       "      <td>France</td>\n",
       "      <td>44.0</td>\n",
       "      <td>72000.0</td>\n",
       "      <td>No</td>\n",
       "    </tr>\n",
       "    <tr>\n",
       "      <th>1</th>\n",
       "      <td>Spain</td>\n",
       "      <td>27.0</td>\n",
       "      <td>48000.0</td>\n",
       "      <td>Yes</td>\n",
       "    </tr>\n",
       "    <tr>\n",
       "      <th>2</th>\n",
       "      <td>Germany</td>\n",
       "      <td>30.0</td>\n",
       "      <td>54000.0</td>\n",
       "      <td>No</td>\n",
       "    </tr>\n",
       "    <tr>\n",
       "      <th>3</th>\n",
       "      <td>Spain</td>\n",
       "      <td>38.0</td>\n",
       "      <td>61000.0</td>\n",
       "      <td>No</td>\n",
       "    </tr>\n",
       "    <tr>\n",
       "      <th>4</th>\n",
       "      <td>Germany</td>\n",
       "      <td>40.0</td>\n",
       "      <td>NaN</td>\n",
       "      <td>Yes</td>\n",
       "    </tr>\n",
       "    <tr>\n",
       "      <th>5</th>\n",
       "      <td>France</td>\n",
       "      <td>35.0</td>\n",
       "      <td>58000.0</td>\n",
       "      <td>Yes</td>\n",
       "    </tr>\n",
       "    <tr>\n",
       "      <th>6</th>\n",
       "      <td>France</td>\n",
       "      <td>48.0</td>\n",
       "      <td>79000.0</td>\n",
       "      <td>Yes</td>\n",
       "    </tr>\n",
       "    <tr>\n",
       "      <th>7</th>\n",
       "      <td>Germany</td>\n",
       "      <td>50.0</td>\n",
       "      <td>83000.0</td>\n",
       "      <td>No</td>\n",
       "    </tr>\n",
       "    <tr>\n",
       "      <th>8</th>\n",
       "      <td>France</td>\n",
       "      <td>NaN</td>\n",
       "      <td>67000.0</td>\n",
       "      <td>Yes</td>\n",
       "    </tr>\n",
       "  </tbody>\n",
       "</table>\n",
       "</div>"
      ],
      "text/plain": [
       "   Country   Age   Salary Purchased\n",
       "0   France  44.0  72000.0        No\n",
       "1    Spain  27.0  48000.0       Yes\n",
       "2  Germany  30.0  54000.0        No\n",
       "3    Spain  38.0  61000.0        No\n",
       "4  Germany  40.0      NaN       Yes\n",
       "5   France  35.0  58000.0       Yes\n",
       "6   France  48.0  79000.0       Yes\n",
       "7  Germany  50.0  83000.0        No\n",
       "8   France   NaN  67000.0       Yes"
      ]
     },
     "execution_count": 3,
     "metadata": {},
     "output_type": "execute_result"
    }
   ],
   "source": [
    "dataset"
   ]
  },
  {
   "cell_type": "code",
   "execution_count": 4,
   "id": "d4c3a9ea",
   "metadata": {
    "execution": {
     "iopub.execute_input": "2025-03-14T18:21:12.058351Z",
     "iopub.status.busy": "2025-03-14T18:21:12.058010Z",
     "iopub.status.idle": "2025-03-14T18:21:12.075330Z",
     "shell.execute_reply": "2025-03-14T18:21:12.074552Z"
    },
    "papermill": {
     "duration": 0.023108,
     "end_time": "2025-03-14T18:21:12.076789",
     "exception": false,
     "start_time": "2025-03-14T18:21:12.053681",
     "status": "completed"
    },
    "tags": []
   },
   "outputs": [
    {
     "data": {
      "text/html": [
       "<div>\n",
       "<style scoped>\n",
       "    .dataframe tbody tr th:only-of-type {\n",
       "        vertical-align: middle;\n",
       "    }\n",
       "\n",
       "    .dataframe tbody tr th {\n",
       "        vertical-align: top;\n",
       "    }\n",
       "\n",
       "    .dataframe thead th {\n",
       "        text-align: right;\n",
       "    }\n",
       "</style>\n",
       "<table border=\"1\" class=\"dataframe\">\n",
       "  <thead>\n",
       "    <tr style=\"text-align: right;\">\n",
       "      <th></th>\n",
       "      <th>Age</th>\n",
       "      <th>Salary</th>\n",
       "    </tr>\n",
       "  </thead>\n",
       "  <tbody>\n",
       "    <tr>\n",
       "      <th>count</th>\n",
       "      <td>8.000000</td>\n",
       "      <td>8.000000</td>\n",
       "    </tr>\n",
       "    <tr>\n",
       "      <th>mean</th>\n",
       "      <td>39.000000</td>\n",
       "      <td>65250.000000</td>\n",
       "    </tr>\n",
       "    <tr>\n",
       "      <th>std</th>\n",
       "      <td>8.194075</td>\n",
       "      <td>12232.859729</td>\n",
       "    </tr>\n",
       "    <tr>\n",
       "      <th>min</th>\n",
       "      <td>27.000000</td>\n",
       "      <td>48000.000000</td>\n",
       "    </tr>\n",
       "    <tr>\n",
       "      <th>25%</th>\n",
       "      <td>33.750000</td>\n",
       "      <td>57000.000000</td>\n",
       "    </tr>\n",
       "    <tr>\n",
       "      <th>50%</th>\n",
       "      <td>39.000000</td>\n",
       "      <td>64000.000000</td>\n",
       "    </tr>\n",
       "    <tr>\n",
       "      <th>75%</th>\n",
       "      <td>45.000000</td>\n",
       "      <td>73750.000000</td>\n",
       "    </tr>\n",
       "    <tr>\n",
       "      <th>max</th>\n",
       "      <td>50.000000</td>\n",
       "      <td>83000.000000</td>\n",
       "    </tr>\n",
       "  </tbody>\n",
       "</table>\n",
       "</div>"
      ],
      "text/plain": [
       "             Age        Salary\n",
       "count   8.000000      8.000000\n",
       "mean   39.000000  65250.000000\n",
       "std     8.194075  12232.859729\n",
       "min    27.000000  48000.000000\n",
       "25%    33.750000  57000.000000\n",
       "50%    39.000000  64000.000000\n",
       "75%    45.000000  73750.000000\n",
       "max    50.000000  83000.000000"
      ]
     },
     "execution_count": 4,
     "metadata": {},
     "output_type": "execute_result"
    }
   ],
   "source": [
    "dataset.describe()"
   ]
  },
  {
   "cell_type": "code",
   "execution_count": 5,
   "id": "5667c520",
   "metadata": {
    "execution": {
     "iopub.execute_input": "2025-03-14T18:21:12.085711Z",
     "iopub.status.busy": "2025-03-14T18:21:12.085391Z",
     "iopub.status.idle": "2025-03-14T18:21:12.096252Z",
     "shell.execute_reply": "2025-03-14T18:21:12.095328Z"
    },
    "papermill": {
     "duration": 0.016784,
     "end_time": "2025-03-14T18:21:12.097610",
     "exception": false,
     "start_time": "2025-03-14T18:21:12.080826",
     "status": "completed"
    },
    "tags": []
   },
   "outputs": [
    {
     "name": "stderr",
     "output_type": "stream",
     "text": [
      "/usr/local/lib/python3.10/dist-packages/pandas/io/formats/format.py:1458: RuntimeWarning: invalid value encountered in greater\n",
      "  has_large_values = (abs_vals > 1e6).any()\n",
      "/usr/local/lib/python3.10/dist-packages/pandas/io/formats/format.py:1459: RuntimeWarning: invalid value encountered in less\n",
      "  has_small_values = ((abs_vals < 10 ** (-self.digits)) & (abs_vals > 0)).any()\n",
      "/usr/local/lib/python3.10/dist-packages/pandas/io/formats/format.py:1459: RuntimeWarning: invalid value encountered in greater\n",
      "  has_small_values = ((abs_vals < 10 ** (-self.digits)) & (abs_vals > 0)).any()\n"
     ]
    },
    {
     "data": {
      "text/html": [
       "<div>\n",
       "<style scoped>\n",
       "    .dataframe tbody tr th:only-of-type {\n",
       "        vertical-align: middle;\n",
       "    }\n",
       "\n",
       "    .dataframe tbody tr th {\n",
       "        vertical-align: top;\n",
       "    }\n",
       "\n",
       "    .dataframe thead th {\n",
       "        text-align: right;\n",
       "    }\n",
       "</style>\n",
       "<table border=\"1\" class=\"dataframe\">\n",
       "  <thead>\n",
       "    <tr style=\"text-align: right;\">\n",
       "      <th></th>\n",
       "      <th>Country</th>\n",
       "      <th>Age</th>\n",
       "      <th>Salary</th>\n",
       "      <th>Purchased</th>\n",
       "    </tr>\n",
       "  </thead>\n",
       "  <tbody>\n",
       "    <tr>\n",
       "      <th>0</th>\n",
       "      <td>France</td>\n",
       "      <td>44.0</td>\n",
       "      <td>72000.0</td>\n",
       "      <td>No</td>\n",
       "    </tr>\n",
       "    <tr>\n",
       "      <th>1</th>\n",
       "      <td>Spain</td>\n",
       "      <td>27.0</td>\n",
       "      <td>48000.0</td>\n",
       "      <td>Yes</td>\n",
       "    </tr>\n",
       "    <tr>\n",
       "      <th>2</th>\n",
       "      <td>Germany</td>\n",
       "      <td>30.0</td>\n",
       "      <td>54000.0</td>\n",
       "      <td>No</td>\n",
       "    </tr>\n",
       "    <tr>\n",
       "      <th>3</th>\n",
       "      <td>Spain</td>\n",
       "      <td>38.0</td>\n",
       "      <td>61000.0</td>\n",
       "      <td>No</td>\n",
       "    </tr>\n",
       "    <tr>\n",
       "      <th>4</th>\n",
       "      <td>Germany</td>\n",
       "      <td>40.0</td>\n",
       "      <td>NaN</td>\n",
       "      <td>Yes</td>\n",
       "    </tr>\n",
       "  </tbody>\n",
       "</table>\n",
       "</div>"
      ],
      "text/plain": [
       "   Country   Age   Salary Purchased\n",
       "0   France  44.0  72000.0        No\n",
       "1    Spain  27.0  48000.0       Yes\n",
       "2  Germany  30.0  54000.0        No\n",
       "3    Spain  38.0  61000.0        No\n",
       "4  Germany  40.0      NaN       Yes"
      ]
     },
     "execution_count": 5,
     "metadata": {},
     "output_type": "execute_result"
    }
   ],
   "source": [
    "dataset.head()"
   ]
  },
  {
   "cell_type": "code",
   "execution_count": 6,
   "id": "48e58dc2",
   "metadata": {
    "execution": {
     "iopub.execute_input": "2025-03-14T18:21:12.106651Z",
     "iopub.status.busy": "2025-03-14T18:21:12.106351Z",
     "iopub.status.idle": "2025-03-14T18:21:12.112711Z",
     "shell.execute_reply": "2025-03-14T18:21:12.111812Z"
    },
    "papermill": {
     "duration": 0.012333,
     "end_time": "2025-03-14T18:21:12.114112",
     "exception": false,
     "start_time": "2025-03-14T18:21:12.101779",
     "status": "completed"
    },
    "tags": []
   },
   "outputs": [
    {
     "data": {
      "text/plain": [
       "Country      0\n",
       "Age          1\n",
       "Salary       1\n",
       "Purchased    0\n",
       "dtype: int64"
      ]
     },
     "execution_count": 6,
     "metadata": {},
     "output_type": "execute_result"
    }
   ],
   "source": [
    "dataset.isnull().sum()"
   ]
  },
  {
   "cell_type": "code",
   "execution_count": 7,
   "id": "3cbf34f6",
   "metadata": {
    "execution": {
     "iopub.execute_input": "2025-03-14T18:21:12.123132Z",
     "iopub.status.busy": "2025-03-14T18:21:12.122874Z",
     "iopub.status.idle": "2025-03-14T18:21:12.127686Z",
     "shell.execute_reply": "2025-03-14T18:21:12.126781Z"
    },
    "papermill": {
     "duration": 0.010826,
     "end_time": "2025-03-14T18:21:12.129098",
     "exception": false,
     "start_time": "2025-03-14T18:21:12.118272",
     "status": "completed"
    },
    "tags": []
   },
   "outputs": [
    {
     "data": {
      "text/plain": [
       "(9, 4)"
      ]
     },
     "execution_count": 7,
     "metadata": {},
     "output_type": "execute_result"
    }
   ],
   "source": [
    "dataset.shape"
   ]
  },
  {
   "cell_type": "code",
   "execution_count": 8,
   "id": "7e88397a",
   "metadata": {
    "execution": {
     "iopub.execute_input": "2025-03-14T18:21:12.138625Z",
     "iopub.status.busy": "2025-03-14T18:21:12.138276Z",
     "iopub.status.idle": "2025-03-14T18:21:12.143087Z",
     "shell.execute_reply": "2025-03-14T18:21:12.142160Z"
    },
    "papermill": {
     "duration": 0.011177,
     "end_time": "2025-03-14T18:21:12.144543",
     "exception": false,
     "start_time": "2025-03-14T18:21:12.133366",
     "status": "completed"
    },
    "tags": []
   },
   "outputs": [],
   "source": [
    "dataset['Salary'] = dataset['Salary'].fillna(dataset['Salary'].mean())"
   ]
  },
  {
   "cell_type": "code",
   "execution_count": 9,
   "id": "b639522c",
   "metadata": {
    "execution": {
     "iopub.execute_input": "2025-03-14T18:21:12.153820Z",
     "iopub.status.busy": "2025-03-14T18:21:12.153550Z",
     "iopub.status.idle": "2025-03-14T18:21:12.159937Z",
     "shell.execute_reply": "2025-03-14T18:21:12.159165Z"
    },
    "papermill": {
     "duration": 0.012609,
     "end_time": "2025-03-14T18:21:12.161415",
     "exception": false,
     "start_time": "2025-03-14T18:21:12.148806",
     "status": "completed"
    },
    "tags": []
   },
   "outputs": [
    {
     "data": {
      "text/plain": [
       "Country      0\n",
       "Age          1\n",
       "Salary       0\n",
       "Purchased    0\n",
       "dtype: int64"
      ]
     },
     "execution_count": 9,
     "metadata": {},
     "output_type": "execute_result"
    }
   ],
   "source": [
    "dataset.isnull().sum()"
   ]
  },
  {
   "cell_type": "code",
   "execution_count": 10,
   "id": "143fb2b0",
   "metadata": {
    "execution": {
     "iopub.execute_input": "2025-03-14T18:21:12.170887Z",
     "iopub.status.busy": "2025-03-14T18:21:12.170609Z",
     "iopub.status.idle": "2025-03-14T18:21:12.181145Z",
     "shell.execute_reply": "2025-03-14T18:21:12.180367Z"
    },
    "papermill": {
     "duration": 0.016901,
     "end_time": "2025-03-14T18:21:12.182632",
     "exception": false,
     "start_time": "2025-03-14T18:21:12.165731",
     "status": "completed"
    },
    "tags": []
   },
   "outputs": [
    {
     "data": {
      "text/plain": [
       "Country      0\n",
       "Age          0\n",
       "Salary       0\n",
       "Purchased    0\n",
       "dtype: int64"
      ]
     },
     "execution_count": 10,
     "metadata": {},
     "output_type": "execute_result"
    }
   ],
   "source": [
    "dataset = dataset.dropna()\n",
    "dataset.isnull().sum()"
   ]
  },
  {
   "cell_type": "code",
   "execution_count": 11,
   "id": "6ed88d8f",
   "metadata": {
    "execution": {
     "iopub.execute_input": "2025-03-14T18:21:12.192590Z",
     "iopub.status.busy": "2025-03-14T18:21:12.192275Z",
     "iopub.status.idle": "2025-03-14T18:21:12.198524Z",
     "shell.execute_reply": "2025-03-14T18:21:12.197665Z"
    },
    "papermill": {
     "duration": 0.012828,
     "end_time": "2025-03-14T18:21:12.200033",
     "exception": false,
     "start_time": "2025-03-14T18:21:12.187205",
     "status": "completed"
    },
    "tags": []
   },
   "outputs": [],
   "source": [
    "x = dataset.iloc[:, :-1]\n",
    "y = dataset.iloc[:, 2]"
   ]
  },
  {
   "cell_type": "code",
   "execution_count": 12,
   "id": "4fac97f2",
   "metadata": {
    "execution": {
     "iopub.execute_input": "2025-03-14T18:21:12.209982Z",
     "iopub.status.busy": "2025-03-14T18:21:12.209697Z",
     "iopub.status.idle": "2025-03-14T18:21:12.219541Z",
     "shell.execute_reply": "2025-03-14T18:21:12.218580Z"
    },
    "papermill": {
     "duration": 0.016345,
     "end_time": "2025-03-14T18:21:12.220971",
     "exception": false,
     "start_time": "2025-03-14T18:21:12.204626",
     "status": "completed"
    },
    "tags": []
   },
   "outputs": [
    {
     "data": {
      "text/html": [
       "<div>\n",
       "<style scoped>\n",
       "    .dataframe tbody tr th:only-of-type {\n",
       "        vertical-align: middle;\n",
       "    }\n",
       "\n",
       "    .dataframe tbody tr th {\n",
       "        vertical-align: top;\n",
       "    }\n",
       "\n",
       "    .dataframe thead th {\n",
       "        text-align: right;\n",
       "    }\n",
       "</style>\n",
       "<table border=\"1\" class=\"dataframe\">\n",
       "  <thead>\n",
       "    <tr style=\"text-align: right;\">\n",
       "      <th></th>\n",
       "      <th>Country</th>\n",
       "      <th>Age</th>\n",
       "      <th>Salary</th>\n",
       "    </tr>\n",
       "  </thead>\n",
       "  <tbody>\n",
       "    <tr>\n",
       "      <th>0</th>\n",
       "      <td>France</td>\n",
       "      <td>44.0</td>\n",
       "      <td>72000.0</td>\n",
       "    </tr>\n",
       "    <tr>\n",
       "      <th>1</th>\n",
       "      <td>Spain</td>\n",
       "      <td>27.0</td>\n",
       "      <td>48000.0</td>\n",
       "    </tr>\n",
       "    <tr>\n",
       "      <th>2</th>\n",
       "      <td>Germany</td>\n",
       "      <td>30.0</td>\n",
       "      <td>54000.0</td>\n",
       "    </tr>\n",
       "    <tr>\n",
       "      <th>3</th>\n",
       "      <td>Spain</td>\n",
       "      <td>38.0</td>\n",
       "      <td>61000.0</td>\n",
       "    </tr>\n",
       "    <tr>\n",
       "      <th>4</th>\n",
       "      <td>Germany</td>\n",
       "      <td>40.0</td>\n",
       "      <td>65250.0</td>\n",
       "    </tr>\n",
       "    <tr>\n",
       "      <th>5</th>\n",
       "      <td>France</td>\n",
       "      <td>35.0</td>\n",
       "      <td>58000.0</td>\n",
       "    </tr>\n",
       "    <tr>\n",
       "      <th>6</th>\n",
       "      <td>France</td>\n",
       "      <td>48.0</td>\n",
       "      <td>79000.0</td>\n",
       "    </tr>\n",
       "    <tr>\n",
       "      <th>7</th>\n",
       "      <td>Germany</td>\n",
       "      <td>50.0</td>\n",
       "      <td>83000.0</td>\n",
       "    </tr>\n",
       "  </tbody>\n",
       "</table>\n",
       "</div>"
      ],
      "text/plain": [
       "   Country   Age   Salary\n",
       "0   France  44.0  72000.0\n",
       "1    Spain  27.0  48000.0\n",
       "2  Germany  30.0  54000.0\n",
       "3    Spain  38.0  61000.0\n",
       "4  Germany  40.0  65250.0\n",
       "5   France  35.0  58000.0\n",
       "6   France  48.0  79000.0\n",
       "7  Germany  50.0  83000.0"
      ]
     },
     "execution_count": 12,
     "metadata": {},
     "output_type": "execute_result"
    }
   ],
   "source": [
    "x"
   ]
  },
  {
   "cell_type": "code",
   "execution_count": 13,
   "id": "686d15d1",
   "metadata": {
    "execution": {
     "iopub.execute_input": "2025-03-14T18:21:12.231225Z",
     "iopub.status.busy": "2025-03-14T18:21:12.230923Z",
     "iopub.status.idle": "2025-03-14T18:21:12.236937Z",
     "shell.execute_reply": "2025-03-14T18:21:12.236181Z"
    },
    "papermill": {
     "duration": 0.012568,
     "end_time": "2025-03-14T18:21:12.238246",
     "exception": false,
     "start_time": "2025-03-14T18:21:12.225678",
     "status": "completed"
    },
    "tags": []
   },
   "outputs": [
    {
     "data": {
      "text/plain": [
       "0    72000.0\n",
       "1    48000.0\n",
       "2    54000.0\n",
       "3    61000.0\n",
       "4    65250.0\n",
       "5    58000.0\n",
       "6    79000.0\n",
       "7    83000.0\n",
       "Name: Salary, dtype: float64"
      ]
     },
     "execution_count": 13,
     "metadata": {},
     "output_type": "execute_result"
    }
   ],
   "source": [
    "y"
   ]
  },
  {
   "cell_type": "code",
   "execution_count": 14,
   "id": "22dc26b0",
   "metadata": {
    "execution": {
     "iopub.execute_input": "2025-03-14T18:21:12.248615Z",
     "iopub.status.busy": "2025-03-14T18:21:12.248280Z",
     "iopub.status.idle": "2025-03-14T18:21:13.417424Z",
     "shell.execute_reply": "2025-03-14T18:21:13.416464Z"
    },
    "papermill": {
     "duration": 1.176101,
     "end_time": "2025-03-14T18:21:13.419175",
     "exception": false,
     "start_time": "2025-03-14T18:21:12.243074",
     "status": "completed"
    },
    "tags": []
   },
   "outputs": [],
   "source": [
    "from sklearn.preprocessing import LabelEncoder\n",
    "\n",
    "# Create the LabelEncoder\n",
    "labelEncoder_X = LabelEncoder()\n",
    "\n",
    "# Apply the encoder to a specific column\n",
    "x.iloc[:, 0] = labelEncoder_X.fit_transform(x.iloc[:, 0])\n"
   ]
  },
  {
   "cell_type": "code",
   "execution_count": 15,
   "id": "34d264bf",
   "metadata": {
    "execution": {
     "iopub.execute_input": "2025-03-14T18:21:13.430415Z",
     "iopub.status.busy": "2025-03-14T18:21:13.429895Z",
     "iopub.status.idle": "2025-03-14T18:21:13.439753Z",
     "shell.execute_reply": "2025-03-14T18:21:13.438903Z"
    },
    "papermill": {
     "duration": 0.017099,
     "end_time": "2025-03-14T18:21:13.441156",
     "exception": false,
     "start_time": "2025-03-14T18:21:13.424057",
     "status": "completed"
    },
    "tags": []
   },
   "outputs": [
    {
     "data": {
      "text/html": [
       "<div>\n",
       "<style scoped>\n",
       "    .dataframe tbody tr th:only-of-type {\n",
       "        vertical-align: middle;\n",
       "    }\n",
       "\n",
       "    .dataframe tbody tr th {\n",
       "        vertical-align: top;\n",
       "    }\n",
       "\n",
       "    .dataframe thead th {\n",
       "        text-align: right;\n",
       "    }\n",
       "</style>\n",
       "<table border=\"1\" class=\"dataframe\">\n",
       "  <thead>\n",
       "    <tr style=\"text-align: right;\">\n",
       "      <th></th>\n",
       "      <th>Country</th>\n",
       "      <th>Age</th>\n",
       "      <th>Salary</th>\n",
       "    </tr>\n",
       "  </thead>\n",
       "  <tbody>\n",
       "    <tr>\n",
       "      <th>0</th>\n",
       "      <td>0</td>\n",
       "      <td>44.0</td>\n",
       "      <td>72000.0</td>\n",
       "    </tr>\n",
       "    <tr>\n",
       "      <th>1</th>\n",
       "      <td>2</td>\n",
       "      <td>27.0</td>\n",
       "      <td>48000.0</td>\n",
       "    </tr>\n",
       "    <tr>\n",
       "      <th>2</th>\n",
       "      <td>1</td>\n",
       "      <td>30.0</td>\n",
       "      <td>54000.0</td>\n",
       "    </tr>\n",
       "    <tr>\n",
       "      <th>3</th>\n",
       "      <td>2</td>\n",
       "      <td>38.0</td>\n",
       "      <td>61000.0</td>\n",
       "    </tr>\n",
       "    <tr>\n",
       "      <th>4</th>\n",
       "      <td>1</td>\n",
       "      <td>40.0</td>\n",
       "      <td>65250.0</td>\n",
       "    </tr>\n",
       "    <tr>\n",
       "      <th>5</th>\n",
       "      <td>0</td>\n",
       "      <td>35.0</td>\n",
       "      <td>58000.0</td>\n",
       "    </tr>\n",
       "    <tr>\n",
       "      <th>6</th>\n",
       "      <td>0</td>\n",
       "      <td>48.0</td>\n",
       "      <td>79000.0</td>\n",
       "    </tr>\n",
       "    <tr>\n",
       "      <th>7</th>\n",
       "      <td>1</td>\n",
       "      <td>50.0</td>\n",
       "      <td>83000.0</td>\n",
       "    </tr>\n",
       "  </tbody>\n",
       "</table>\n",
       "</div>"
      ],
      "text/plain": [
       "  Country   Age   Salary\n",
       "0       0  44.0  72000.0\n",
       "1       2  27.0  48000.0\n",
       "2       1  30.0  54000.0\n",
       "3       2  38.0  61000.0\n",
       "4       1  40.0  65250.0\n",
       "5       0  35.0  58000.0\n",
       "6       0  48.0  79000.0\n",
       "7       1  50.0  83000.0"
      ]
     },
     "execution_count": 15,
     "metadata": {},
     "output_type": "execute_result"
    }
   ],
   "source": [
    "x"
   ]
  }
 ],
 "metadata": {
  "kaggle": {
   "accelerator": "none",
   "dataSources": [
    {
     "datasetId": 6500929,
     "sourceId": 10499765,
     "sourceType": "datasetVersion"
    }
   ],
   "dockerImageVersionId": 30839,
   "isGpuEnabled": false,
   "isInternetEnabled": false,
   "language": "python",
   "sourceType": "notebook"
  },
  "kernelspec": {
   "display_name": "Python 3",
   "language": "python",
   "name": "python3"
  },
  "language_info": {
   "codemirror_mode": {
    "name": "ipython",
    "version": 3
   },
   "file_extension": ".py",
   "mimetype": "text/x-python",
   "name": "python",
   "nbconvert_exporter": "python",
   "pygments_lexer": "ipython3",
   "version": "3.10.12"
  },
  "papermill": {
   "default_parameters": {},
   "duration": 5.695815,
   "end_time": "2025-03-14T18:21:14.064387",
   "environment_variables": {},
   "exception": null,
   "input_path": "__notebook__.ipynb",
   "output_path": "__notebook__.ipynb",
   "parameters": {},
   "start_time": "2025-03-14T18:21:08.368572",
   "version": "2.6.0"
  }
 },
 "nbformat": 4,
 "nbformat_minor": 5
}
